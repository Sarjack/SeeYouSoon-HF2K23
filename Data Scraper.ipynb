{
  "nbformat": 4,
  "nbformat_minor": 0,
  "metadata": {
    "colab": {
      "provenance": []
    },
    "kernelspec": {
      "name": "python3",
      "display_name": "Python 3"
    },
    "language_info": {
      "name": "python"
    }
  },
  "cells": [
    {
      "cell_type": "code",
      "source": [
        "!pip install snscrape"
      ],
      "metadata": {
        "id": "4yLpZHb8HqGB"
      },
      "execution_count": null,
      "outputs": []
    },
    {
      "cell_type": "code",
      "execution_count": 55,
      "metadata": {
        "id": "hzf7TW79EFH_"
      },
      "outputs": [],
      "source": [
        "import pandas as pd\n",
        "import numpy as np\n",
        "import snscrape.modules.twitter as sntwitter\n",
        "import datetime"
      ]
    },
    {
      "cell_type": "code",
      "source": [
        "def fetcher(comp, start, end):\n",
        "  query = f'${comp} until:{end} since:{start}'\n",
        "  lis = []\n",
        "  limit = 50\n",
        "  for tweet in sntwitter.TwitterSearchScraper(query).get_items():\n",
        "    if len(lis) == limit:\n",
        "      break\n",
        "    else:\n",
        "      try:\n",
        "        if tweet.lang == 'en' and tweet.cashtags == [comp] and tweet.likeCount >= 1:\n",
        "          lis.append([start,tweet.rawContent,tweet.viewCount,tweet.replyCount,tweet.retweetCount,tweet.likeCount])\n",
        "      except:\n",
        "        pass\n",
        "  data = pd.DataFrame(lis,columns= ['date','content','viwes','replycount','retweetCount','likeCount'])\n",
        "  return data"
      ],
      "metadata": {
        "id": "5gSffQ1IbgT7"
      },
      "execution_count": 56,
      "outputs": []
    },
    {
      "cell_type": "code",
      "source": [
        "data = fetcher('AMZN','2018-01-02','2018-01-03 ')"
      ],
      "metadata": {
        "id": "qBSTZzGQ4fDv"
      },
      "execution_count": 52,
      "outputs": []
    },
    {
      "cell_type": "code",
      "source": [
        "stock = pd.read_csv('/content/drive/MyDrive/MC data/stock_data.csv',index_col = 0)\n",
        "stock"
      ],
      "metadata": {
        "id": "QGApFsCbxtH9"
      },
      "execution_count": null,
      "outputs": []
    },
    {
      "cell_type": "code",
      "source": [
        "temp = list(stock.iloc[:,0])\n",
        "temp1 = []\n",
        "temp2 = []\n",
        "arr = []\n",
        "for i in range(len(temp)):\n",
        "  x = temp[i][:10]\n",
        "  arr.append(int(x[:4]))\n",
        "  arr.append(int(x[5:7]))\n",
        "  arr.append(int(x[8:10]))\n",
        "  x = datetime.date(arr[0],arr[1],arr[2])\n",
        "  temp1.append(x)\n",
        "  x = x+datetime.timedelta(days=1)\n",
        "  temp2.append(x)\n",
        "stock['Next_Day'] = temp2\n",
        "stock.iloc[:,0] = temp1"
      ],
      "metadata": {
        "id": "W4vI4QqhlkWY"
      },
      "execution_count": 67,
      "outputs": []
    },
    {
      "cell_type": "code",
      "source": [
        "stock"
      ],
      "metadata": {
        "id": "864RNYduSbIm"
      },
      "execution_count": null,
      "outputs": []
    },
    {
      "cell_type": "code",
      "source": [
        "stock['Score'] = 1\n",
        "temp = []\n",
        "names = stock.iloc[:,7].unique()\n",
        "for i in names:\n",
        "  df = stock[stock.iloc[:,7]==i]\n",
        "  a = (df.iloc[:,4] - df.iloc[:,1])/df.iloc[:,1]\n",
        "  b = min(a)\n",
        "  if b<0:\n",
        "    a+= -b\n",
        "  a /= max(a)\n",
        "  temp += list(a)\n",
        "stock['Score'] = temp\n",
        "\n",
        "stock.head()"
      ],
      "metadata": {
        "colab": {
          "base_uri": "https://localhost:8080/",
          "height": 206
        },
        "id": "MS9Nw18JmCop",
        "outputId": "47016aa1-22c2-4097-d51d-98799c235bcf"
      },
      "execution_count": 69,
      "outputs": [
        {
          "output_type": "execute_result",
          "data": {
            "text/plain": [
              "            0           1           2           3           4           5  \\\n",
              "0  2018-01-02  112.040001  116.110001  112.040001  114.480003  114.480003   \n",
              "1  2018-01-02  114.489998  114.940002  113.660004  114.019997  114.019997   \n",
              "2  2018-01-02  114.339996  114.739998  112.650002  113.910004  113.910004   \n",
              "3  2018-01-02  114.220001  117.980003  113.629997  117.620003  117.620003   \n",
              "4  2018-01-02  117.669998  117.989998  115.680000  117.370003  117.370003   \n",
              "\n",
              "          6     7    Next_Day     Score  \n",
              "0  187400.0  ICLR  2018-01-03  0.552252  \n",
              "1  379800.0  ICLR  2018-01-03  0.425530  \n",
              "2  422700.0  ICLR  2018-01-03  0.427217  \n",
              "3  299000.0  ICLR  2018-01-03  0.591367  \n",
              "4  277000.0  ICLR  2018-01-03  0.433147  "
            ],
            "text/html": [
              "\n",
              "  <div id=\"df-90db0dbb-c5a5-447e-9cdc-1e4fa0d9f021\">\n",
              "    <div class=\"colab-df-container\">\n",
              "      <div>\n",
              "<style scoped>\n",
              "    .dataframe tbody tr th:only-of-type {\n",
              "        vertical-align: middle;\n",
              "    }\n",
              "\n",
              "    .dataframe tbody tr th {\n",
              "        vertical-align: top;\n",
              "    }\n",
              "\n",
              "    .dataframe thead th {\n",
              "        text-align: right;\n",
              "    }\n",
              "</style>\n",
              "<table border=\"1\" class=\"dataframe\">\n",
              "  <thead>\n",
              "    <tr style=\"text-align: right;\">\n",
              "      <th></th>\n",
              "      <th>0</th>\n",
              "      <th>1</th>\n",
              "      <th>2</th>\n",
              "      <th>3</th>\n",
              "      <th>4</th>\n",
              "      <th>5</th>\n",
              "      <th>6</th>\n",
              "      <th>7</th>\n",
              "      <th>Next_Day</th>\n",
              "      <th>Score</th>\n",
              "    </tr>\n",
              "  </thead>\n",
              "  <tbody>\n",
              "    <tr>\n",
              "      <th>0</th>\n",
              "      <td>2018-01-02</td>\n",
              "      <td>112.040001</td>\n",
              "      <td>116.110001</td>\n",
              "      <td>112.040001</td>\n",
              "      <td>114.480003</td>\n",
              "      <td>114.480003</td>\n",
              "      <td>187400.0</td>\n",
              "      <td>ICLR</td>\n",
              "      <td>2018-01-03</td>\n",
              "      <td>0.552252</td>\n",
              "    </tr>\n",
              "    <tr>\n",
              "      <th>1</th>\n",
              "      <td>2018-01-02</td>\n",
              "      <td>114.489998</td>\n",
              "      <td>114.940002</td>\n",
              "      <td>113.660004</td>\n",
              "      <td>114.019997</td>\n",
              "      <td>114.019997</td>\n",
              "      <td>379800.0</td>\n",
              "      <td>ICLR</td>\n",
              "      <td>2018-01-03</td>\n",
              "      <td>0.425530</td>\n",
              "    </tr>\n",
              "    <tr>\n",
              "      <th>2</th>\n",
              "      <td>2018-01-02</td>\n",
              "      <td>114.339996</td>\n",
              "      <td>114.739998</td>\n",
              "      <td>112.650002</td>\n",
              "      <td>113.910004</td>\n",
              "      <td>113.910004</td>\n",
              "      <td>422700.0</td>\n",
              "      <td>ICLR</td>\n",
              "      <td>2018-01-03</td>\n",
              "      <td>0.427217</td>\n",
              "    </tr>\n",
              "    <tr>\n",
              "      <th>3</th>\n",
              "      <td>2018-01-02</td>\n",
              "      <td>114.220001</td>\n",
              "      <td>117.980003</td>\n",
              "      <td>113.629997</td>\n",
              "      <td>117.620003</td>\n",
              "      <td>117.620003</td>\n",
              "      <td>299000.0</td>\n",
              "      <td>ICLR</td>\n",
              "      <td>2018-01-03</td>\n",
              "      <td>0.591367</td>\n",
              "    </tr>\n",
              "    <tr>\n",
              "      <th>4</th>\n",
              "      <td>2018-01-02</td>\n",
              "      <td>117.669998</td>\n",
              "      <td>117.989998</td>\n",
              "      <td>115.680000</td>\n",
              "      <td>117.370003</td>\n",
              "      <td>117.370003</td>\n",
              "      <td>277000.0</td>\n",
              "      <td>ICLR</td>\n",
              "      <td>2018-01-03</td>\n",
              "      <td>0.433147</td>\n",
              "    </tr>\n",
              "  </tbody>\n",
              "</table>\n",
              "</div>\n",
              "      <button class=\"colab-df-convert\" onclick=\"convertToInteractive('df-90db0dbb-c5a5-447e-9cdc-1e4fa0d9f021')\"\n",
              "              title=\"Convert this dataframe to an interactive table.\"\n",
              "              style=\"display:none;\">\n",
              "        \n",
              "  <svg xmlns=\"http://www.w3.org/2000/svg\" height=\"24px\"viewBox=\"0 0 24 24\"\n",
              "       width=\"24px\">\n",
              "    <path d=\"M0 0h24v24H0V0z\" fill=\"none\"/>\n",
              "    <path d=\"M18.56 5.44l.94 2.06.94-2.06 2.06-.94-2.06-.94-.94-2.06-.94 2.06-2.06.94zm-11 1L8.5 8.5l.94-2.06 2.06-.94-2.06-.94L8.5 2.5l-.94 2.06-2.06.94zm10 10l.94 2.06.94-2.06 2.06-.94-2.06-.94-.94-2.06-.94 2.06-2.06.94z\"/><path d=\"M17.41 7.96l-1.37-1.37c-.4-.4-.92-.59-1.43-.59-.52 0-1.04.2-1.43.59L10.3 9.45l-7.72 7.72c-.78.78-.78 2.05 0 2.83L4 21.41c.39.39.9.59 1.41.59.51 0 1.02-.2 1.41-.59l7.78-7.78 2.81-2.81c.8-.78.8-2.07 0-2.86zM5.41 20L4 18.59l7.72-7.72 1.47 1.35L5.41 20z\"/>\n",
              "  </svg>\n",
              "      </button>\n",
              "      \n",
              "  <style>\n",
              "    .colab-df-container {\n",
              "      display:flex;\n",
              "      flex-wrap:wrap;\n",
              "      gap: 12px;\n",
              "    }\n",
              "\n",
              "    .colab-df-convert {\n",
              "      background-color: #E8F0FE;\n",
              "      border: none;\n",
              "      border-radius: 50%;\n",
              "      cursor: pointer;\n",
              "      display: none;\n",
              "      fill: #1967D2;\n",
              "      height: 32px;\n",
              "      padding: 0 0 0 0;\n",
              "      width: 32px;\n",
              "    }\n",
              "\n",
              "    .colab-df-convert:hover {\n",
              "      background-color: #E2EBFA;\n",
              "      box-shadow: 0px 1px 2px rgba(60, 64, 67, 0.3), 0px 1px 3px 1px rgba(60, 64, 67, 0.15);\n",
              "      fill: #174EA6;\n",
              "    }\n",
              "\n",
              "    [theme=dark] .colab-df-convert {\n",
              "      background-color: #3B4455;\n",
              "      fill: #D2E3FC;\n",
              "    }\n",
              "\n",
              "    [theme=dark] .colab-df-convert:hover {\n",
              "      background-color: #434B5C;\n",
              "      box-shadow: 0px 1px 3px 1px rgba(0, 0, 0, 0.15);\n",
              "      filter: drop-shadow(0px 1px 2px rgba(0, 0, 0, 0.3));\n",
              "      fill: #FFFFFF;\n",
              "    }\n",
              "  </style>\n",
              "\n",
              "      <script>\n",
              "        const buttonEl =\n",
              "          document.querySelector('#df-90db0dbb-c5a5-447e-9cdc-1e4fa0d9f021 button.colab-df-convert');\n",
              "        buttonEl.style.display =\n",
              "          google.colab.kernel.accessAllowed ? 'block' : 'none';\n",
              "\n",
              "        async function convertToInteractive(key) {\n",
              "          const element = document.querySelector('#df-90db0dbb-c5a5-447e-9cdc-1e4fa0d9f021');\n",
              "          const dataTable =\n",
              "            await google.colab.kernel.invokeFunction('convertToInteractive',\n",
              "                                                     [key], {});\n",
              "          if (!dataTable) return;\n",
              "\n",
              "          const docLinkHtml = 'Like what you see? Visit the ' +\n",
              "            '<a target=\"_blank\" href=https://colab.research.google.com/notebooks/data_table.ipynb>data table notebook</a>'\n",
              "            + ' to learn more about interactive tables.';\n",
              "          element.innerHTML = '';\n",
              "          dataTable['output_type'] = 'display_data';\n",
              "          await google.colab.output.renderOutput(dataTable, element);\n",
              "          const docLink = document.createElement('div');\n",
              "          docLink.innerHTML = docLinkHtml;\n",
              "          element.appendChild(docLink);\n",
              "        }\n",
              "      </script>\n",
              "    </div>\n",
              "  </div>\n",
              "  "
            ]
          },
          "metadata": {},
          "execution_count": 69
        }
      ]
    },
    {
      "cell_type": "code",
      "source": [
        "stock['Sentiment'] = \"Neutral\"\n",
        "scores = temp.copy()\n",
        "temp = []\n",
        "\n",
        "for i in range(len(stock)):\n",
        "  if scores[i]>0.6:\n",
        "    temp.append('Positive')\n",
        "\n",
        "  elif scores[i]<0.4:\n",
        "    temp.append('Negative')\n",
        "  \n",
        "  else:\n",
        "    temp.append('Neutral')\n",
        "  \n",
        "  print(i)\n",
        "stock['Sentiment'] = temp"
      ],
      "metadata": {
        "id": "YmpGYpEU4k_m"
      },
      "execution_count": null,
      "outputs": []
    },
    {
      "cell_type": "code",
      "source": [
        "stock = stock.drop(stock.columns[1:7],axis = 1)"
      ],
      "metadata": {
        "id": "h1AaYuvfnyP2"
      },
      "execution_count": 71,
      "outputs": []
    },
    {
      "cell_type": "code",
      "source": [
        "stock"
      ],
      "metadata": {
        "colab": {
          "base_uri": "https://localhost:8080/",
          "height": 424
        },
        "id": "6reQzkGtAXqN",
        "outputId": "750e2901-2e6c-4afb-d08d-8a4207b1720c"
      },
      "execution_count": 74,
      "outputs": [
        {
          "output_type": "execute_result",
          "data": {
            "text/plain": [
              "         Start_Day Stock    Next_Day     Score Sentiment\n",
              "0       2018-01-02  ICLR  2018-01-03  0.552252   Neutral\n",
              "1       2018-01-02  ICLR  2018-01-03  0.425530   Neutral\n",
              "2       2018-01-02  ICLR  2018-01-03  0.427217   Neutral\n",
              "3       2018-01-02  ICLR  2018-01-03  0.591367   Neutral\n",
              "4       2018-01-02  ICLR  2018-01-03  0.433147   Neutral\n",
              "...            ...   ...         ...       ...       ...\n",
              "219061  2018-01-02  JBHT  2018-01-03  0.510253   Neutral\n",
              "219062  2018-01-02  JBHT  2018-01-03  0.499409   Neutral\n",
              "219063  2018-01-02  JBHT  2018-01-03  0.378713  Negative\n",
              "219064  2018-01-02  JBHT  2018-01-03  0.536161   Neutral\n",
              "219065  2018-01-02  JBHT  2018-01-03  0.446579   Neutral\n",
              "\n",
              "[214421 rows x 5 columns]"
            ],
            "text/html": [
              "\n",
              "  <div id=\"df-2b1e3e33-3692-46bb-84ac-690c42f3d3e0\">\n",
              "    <div class=\"colab-df-container\">\n",
              "      <div>\n",
              "<style scoped>\n",
              "    .dataframe tbody tr th:only-of-type {\n",
              "        vertical-align: middle;\n",
              "    }\n",
              "\n",
              "    .dataframe tbody tr th {\n",
              "        vertical-align: top;\n",
              "    }\n",
              "\n",
              "    .dataframe thead th {\n",
              "        text-align: right;\n",
              "    }\n",
              "</style>\n",
              "<table border=\"1\" class=\"dataframe\">\n",
              "  <thead>\n",
              "    <tr style=\"text-align: right;\">\n",
              "      <th></th>\n",
              "      <th>Start_Day</th>\n",
              "      <th>Stock</th>\n",
              "      <th>Next_Day</th>\n",
              "      <th>Score</th>\n",
              "      <th>Sentiment</th>\n",
              "    </tr>\n",
              "  </thead>\n",
              "  <tbody>\n",
              "    <tr>\n",
              "      <th>0</th>\n",
              "      <td>2018-01-02</td>\n",
              "      <td>ICLR</td>\n",
              "      <td>2018-01-03</td>\n",
              "      <td>0.552252</td>\n",
              "      <td>Neutral</td>\n",
              "    </tr>\n",
              "    <tr>\n",
              "      <th>1</th>\n",
              "      <td>2018-01-02</td>\n",
              "      <td>ICLR</td>\n",
              "      <td>2018-01-03</td>\n",
              "      <td>0.425530</td>\n",
              "      <td>Neutral</td>\n",
              "    </tr>\n",
              "    <tr>\n",
              "      <th>2</th>\n",
              "      <td>2018-01-02</td>\n",
              "      <td>ICLR</td>\n",
              "      <td>2018-01-03</td>\n",
              "      <td>0.427217</td>\n",
              "      <td>Neutral</td>\n",
              "    </tr>\n",
              "    <tr>\n",
              "      <th>3</th>\n",
              "      <td>2018-01-02</td>\n",
              "      <td>ICLR</td>\n",
              "      <td>2018-01-03</td>\n",
              "      <td>0.591367</td>\n",
              "      <td>Neutral</td>\n",
              "    </tr>\n",
              "    <tr>\n",
              "      <th>4</th>\n",
              "      <td>2018-01-02</td>\n",
              "      <td>ICLR</td>\n",
              "      <td>2018-01-03</td>\n",
              "      <td>0.433147</td>\n",
              "      <td>Neutral</td>\n",
              "    </tr>\n",
              "    <tr>\n",
              "      <th>...</th>\n",
              "      <td>...</td>\n",
              "      <td>...</td>\n",
              "      <td>...</td>\n",
              "      <td>...</td>\n",
              "      <td>...</td>\n",
              "    </tr>\n",
              "    <tr>\n",
              "      <th>219061</th>\n",
              "      <td>2018-01-02</td>\n",
              "      <td>JBHT</td>\n",
              "      <td>2018-01-03</td>\n",
              "      <td>0.510253</td>\n",
              "      <td>Neutral</td>\n",
              "    </tr>\n",
              "    <tr>\n",
              "      <th>219062</th>\n",
              "      <td>2018-01-02</td>\n",
              "      <td>JBHT</td>\n",
              "      <td>2018-01-03</td>\n",
              "      <td>0.499409</td>\n",
              "      <td>Neutral</td>\n",
              "    </tr>\n",
              "    <tr>\n",
              "      <th>219063</th>\n",
              "      <td>2018-01-02</td>\n",
              "      <td>JBHT</td>\n",
              "      <td>2018-01-03</td>\n",
              "      <td>0.378713</td>\n",
              "      <td>Negative</td>\n",
              "    </tr>\n",
              "    <tr>\n",
              "      <th>219064</th>\n",
              "      <td>2018-01-02</td>\n",
              "      <td>JBHT</td>\n",
              "      <td>2018-01-03</td>\n",
              "      <td>0.536161</td>\n",
              "      <td>Neutral</td>\n",
              "    </tr>\n",
              "    <tr>\n",
              "      <th>219065</th>\n",
              "      <td>2018-01-02</td>\n",
              "      <td>JBHT</td>\n",
              "      <td>2018-01-03</td>\n",
              "      <td>0.446579</td>\n",
              "      <td>Neutral</td>\n",
              "    </tr>\n",
              "  </tbody>\n",
              "</table>\n",
              "<p>214421 rows × 5 columns</p>\n",
              "</div>\n",
              "      <button class=\"colab-df-convert\" onclick=\"convertToInteractive('df-2b1e3e33-3692-46bb-84ac-690c42f3d3e0')\"\n",
              "              title=\"Convert this dataframe to an interactive table.\"\n",
              "              style=\"display:none;\">\n",
              "        \n",
              "  <svg xmlns=\"http://www.w3.org/2000/svg\" height=\"24px\"viewBox=\"0 0 24 24\"\n",
              "       width=\"24px\">\n",
              "    <path d=\"M0 0h24v24H0V0z\" fill=\"none\"/>\n",
              "    <path d=\"M18.56 5.44l.94 2.06.94-2.06 2.06-.94-2.06-.94-.94-2.06-.94 2.06-2.06.94zm-11 1L8.5 8.5l.94-2.06 2.06-.94-2.06-.94L8.5 2.5l-.94 2.06-2.06.94zm10 10l.94 2.06.94-2.06 2.06-.94-2.06-.94-.94-2.06-.94 2.06-2.06.94z\"/><path d=\"M17.41 7.96l-1.37-1.37c-.4-.4-.92-.59-1.43-.59-.52 0-1.04.2-1.43.59L10.3 9.45l-7.72 7.72c-.78.78-.78 2.05 0 2.83L4 21.41c.39.39.9.59 1.41.59.51 0 1.02-.2 1.41-.59l7.78-7.78 2.81-2.81c.8-.78.8-2.07 0-2.86zM5.41 20L4 18.59l7.72-7.72 1.47 1.35L5.41 20z\"/>\n",
              "  </svg>\n",
              "      </button>\n",
              "      \n",
              "  <style>\n",
              "    .colab-df-container {\n",
              "      display:flex;\n",
              "      flex-wrap:wrap;\n",
              "      gap: 12px;\n",
              "    }\n",
              "\n",
              "    .colab-df-convert {\n",
              "      background-color: #E8F0FE;\n",
              "      border: none;\n",
              "      border-radius: 50%;\n",
              "      cursor: pointer;\n",
              "      display: none;\n",
              "      fill: #1967D2;\n",
              "      height: 32px;\n",
              "      padding: 0 0 0 0;\n",
              "      width: 32px;\n",
              "    }\n",
              "\n",
              "    .colab-df-convert:hover {\n",
              "      background-color: #E2EBFA;\n",
              "      box-shadow: 0px 1px 2px rgba(60, 64, 67, 0.3), 0px 1px 3px 1px rgba(60, 64, 67, 0.15);\n",
              "      fill: #174EA6;\n",
              "    }\n",
              "\n",
              "    [theme=dark] .colab-df-convert {\n",
              "      background-color: #3B4455;\n",
              "      fill: #D2E3FC;\n",
              "    }\n",
              "\n",
              "    [theme=dark] .colab-df-convert:hover {\n",
              "      background-color: #434B5C;\n",
              "      box-shadow: 0px 1px 3px 1px rgba(0, 0, 0, 0.15);\n",
              "      filter: drop-shadow(0px 1px 2px rgba(0, 0, 0, 0.3));\n",
              "      fill: #FFFFFF;\n",
              "    }\n",
              "  </style>\n",
              "\n",
              "      <script>\n",
              "        const buttonEl =\n",
              "          document.querySelector('#df-2b1e3e33-3692-46bb-84ac-690c42f3d3e0 button.colab-df-convert');\n",
              "        buttonEl.style.display =\n",
              "          google.colab.kernel.accessAllowed ? 'block' : 'none';\n",
              "\n",
              "        async function convertToInteractive(key) {\n",
              "          const element = document.querySelector('#df-2b1e3e33-3692-46bb-84ac-690c42f3d3e0');\n",
              "          const dataTable =\n",
              "            await google.colab.kernel.invokeFunction('convertToInteractive',\n",
              "                                                     [key], {});\n",
              "          if (!dataTable) return;\n",
              "\n",
              "          const docLinkHtml = 'Like what you see? Visit the ' +\n",
              "            '<a target=\"_blank\" href=https://colab.research.google.com/notebooks/data_table.ipynb>data table notebook</a>'\n",
              "            + ' to learn more about interactive tables.';\n",
              "          element.innerHTML = '';\n",
              "          dataTable['output_type'] = 'display_data';\n",
              "          await google.colab.output.renderOutput(dataTable, element);\n",
              "          const docLink = document.createElement('div');\n",
              "          docLink.innerHTML = docLinkHtml;\n",
              "          element.appendChild(docLink);\n",
              "        }\n",
              "      </script>\n",
              "    </div>\n",
              "  </div>\n",
              "  "
            ]
          },
          "metadata": {},
          "execution_count": 74
        }
      ]
    },
    {
      "cell_type": "code",
      "source": [
        "stock.columns = ['Start_Day','Stock','Next_Day','Score','Sentiment']"
      ],
      "metadata": {
        "id": "5W_RpJBGRVg1"
      },
      "execution_count": 73,
      "outputs": []
    },
    {
      "cell_type": "code",
      "source": [
        "for i in stock['Stock'].unique():\n",
        "  main_data = pd.DataFrame([],columns= ['date','content','viwes','replycount','retweetCount','likeCount'])\n",
        "  df = stock[stock['Stock'] == i]\n",
        "  temp = []\n",
        "  for j in range(len(df)):\n",
        "    data = fetcher(df.iloc[j,1],df.iloc[j,0],df.iloc[j,2])\n",
        "    main_data = pd.concat([main_data, data], ignore_index=True)\n",
        "  else:\n",
        "    main_data.to_csv(f'/content/drive/MyDrive/MC data/{i}_data.csv')"
      ],
      "metadata": {
        "id": "JnVFxP7FRWqt",
        "colab": {
          "base_uri": "https://localhost:8080/"
        },
        "outputId": "685f01bd-8f04-4574-8dee-eb0f0b4d4c83"
      },
      "execution_count": 17,
      "outputs": [
        {
          "output_type": "execute_result",
          "data": {
            "text/plain": [
              "array(['ICLR', 'LI', 'AVGO', 'LRCX', 'UAL', 'EXPD', 'ADP', 'INCY', 'ENPH',\n",
              "       'ZS', 'TCOM', 'GRMN', 'VTRS', 'TSCO', 'SGEN', 'TTD', 'UTHR',\n",
              "       'EBAY', 'AZPN', 'MAR', 'BIIB', 'ARGX', 'NDAQ', 'GILD', 'FITB',\n",
              "       'ASML', 'DXCM', 'NBIX', 'VRSK', 'PFG', 'KLAC', 'FTNT', 'LNT',\n",
              "       'SBAC', 'TTWO', 'NVDA', 'MRVL', 'SIVB', 'FISV', 'TMUS', 'ILMN',\n",
              "       'TECH', 'CSGP', 'TEAM', 'NTAP', 'EA', 'MCHP', 'ORLY', 'WMG',\n",
              "       'NVCR', 'MDLZ', 'TRMB', 'CTAS', 'LKQ', 'MU', 'FDS', 'GOOG', 'ROST',\n",
              "       'EXPE', 'HOLX', 'ADSK', 'CPRT', 'BMRN', 'EXC', 'REGN', 'KHC',\n",
              "       'ALNY', 'ANSS', 'CSX', 'NFLX', 'MELI', 'AMGN', 'IBKR', 'TROW',\n",
              "       'PDD', 'XEL', 'WBA', 'POOL', 'INTU', 'CSCO', 'SAN', 'VRTX', 'FSLR',\n",
              "       'AXON', 'PCAR', 'NXPI', 'ULTA', 'ERIE', 'PYPL', 'AMAT', 'CHTR',\n",
              "       'ISRG', 'CDNS', 'NDSN', 'NTRS', 'PODD', 'FOXA', 'AAPL', 'SNPS',\n",
              "       'FWONK', 'AZN', 'FAST', 'MSFT', 'DDOG', 'PAYX', 'HZNP', 'LPLA',\n",
              "       'GMAB', 'ABNB', 'TER', 'INTC', 'CDW', 'AMZN', 'FANG', 'IDXX',\n",
              "       'SWKS', 'VZ', 'CHKP', 'MTCH', 'AMD', 'STLD', 'CMCSA', 'TW', 'ETSY',\n",
              "       'ABMD', 'EQIX', 'HBAN', 'SSNC', 'CTSH', 'SPLK', 'ALGN', 'DLTR',\n",
              "       'ZBRA', 'GLPI', 'APA', 'ON', 'ACGL', 'ZM', 'IEP', 'MDB', 'CRWD',\n",
              "       'SEDG', 'COST', 'KDP', 'LSXMB', 'AEP', 'PEP', 'PTC', 'NICE',\n",
              "       'ADBE', 'SBUX', 'CINF', 'SIRI', 'MPWR', 'WDAY', 'BKNG', 'LBRDK',\n",
              "       'JKHY', 'HTHT', 'PARAA', 'QCOM', 'ADI', 'LULU', 'VRSN', 'VOD',\n",
              "       'MRNA', 'TXN', 'MNST', 'AKAM', 'CME', 'ODFL', 'META', 'TSLA',\n",
              "       'JBHT'], dtype=object)"
            ]
          },
          "metadata": {},
          "execution_count": 17
        }
      ]
    },
    {
      "cell_type": "code",
      "source": [
        "df = stock[stock['Stock'] == 'ICLR']\n",
        "type(df)"
      ],
      "metadata": {
        "colab": {
          "base_uri": "https://localhost:8080/"
        },
        "id": "pV_1dNad2cQP",
        "outputId": "70c0d3a1-7622-4ad3-b414-22c67e612da2"
      },
      "execution_count": 18,
      "outputs": [
        {
          "output_type": "execute_result",
          "data": {
            "text/plain": [
              "pandas.core.frame.DataFrame"
            ]
          },
          "metadata": {},
          "execution_count": 18
        }
      ]
    },
    {
      "cell_type": "code",
      "source": [
        "stock.to_csv('stock_data.csv',index = False)"
      ],
      "metadata": {
        "id": "2W2hTcJc3Y0n"
      },
      "execution_count": null,
      "outputs": []
    }
  ]
}