{
  "nbformat": 4,
  "nbformat_minor": 0,
  "metadata": {
    "colab": {
      "provenance": []
    },
    "kernelspec": {
      "name": "python3",
      "display_name": "Python 3"
    },
    "language_info": {
      "name": "python"
    }
  },
  "cells": [
    {
      "cell_type": "markdown",
      "source": [
        "Importing required libraries"
      ],
      "metadata": {
        "id": "0E4v2SNktDIs"
      }
    },
    {
      "cell_type": "code",
      "execution_count": 3,
      "metadata": {
        "id": "c-PpQvyofF0F"
      },
      "outputs": [],
      "source": [
        "import pandas as pd\n",
        "import numpy as np\n",
        "import matplotlib.pyplot as plt\n",
        "import math\n",
        "\n",
        "from sklearn.preprocessing import MinMaxScaler\n",
        "from tensorflow.keras.models import Sequential\n",
        "from tensorflow.keras.layers import Dense\n",
        "from tensorflow.keras.layers import LSTM\n",
        "from sklearn.metrics import mean_squared_error"
      ]
    },
    {
      "cell_type": "markdown",
      "source": [
        "Importing Datasets\n",
        "\n",
        "First one was the output of bert when we passed the scraped through it tweeets.\n",
        "Second One is the true labels, which we calculted from provided csv  "
      ],
      "metadata": {
        "id": "O4O2dZtLtJ3l"
      }
    },
    {
      "cell_type": "code",
      "source": [
        "sentient_from_bert = pd.read_csv('/content/drive/MyDrive/bert_output.csv',index_col = 0)\n",
        "true_sentiment = pd.read_csv('/content/drive/MyDrive/from_stocks.csv')"
      ],
      "metadata": {
        "id": "2ALCHJuUiBhE"
      },
      "execution_count": null,
      "outputs": []
    },
    {
      "cell_type": "code",
      "source": [
        "df = pd.read_csv('/content/drive/MyDrive/MC data/stock_data.csv',index_col = 0)"
      ],
      "metadata": {
        "id": "rJBJGXrputRb"
      },
      "execution_count": 13,
      "outputs": []
    },
    {
      "cell_type": "code",
      "source": [
        "df"
      ],
      "metadata": {
        "colab": {
          "base_uri": "https://localhost:8080/",
          "height": 424
        },
        "id": "wUvAC3VhvqLo",
        "outputId": "637a9b1d-001c-44c4-c173-84794c5cb833"
      },
      "execution_count": 14,
      "outputs": [
        {
          "output_type": "execute_result",
          "data": {
            "text/plain": [
              "                          0           1           2           3           4  \\\n",
              "0       2018-01-02 00:00:00  112.040001  116.110001  112.040001  114.480003   \n",
              "1       2018-01-03 00:00:00  114.489998  114.940002  113.660004  114.019997   \n",
              "2       2018-01-04 00:00:00  114.339996  114.739998  112.650002  113.910004   \n",
              "3       2018-01-05 00:00:00  114.220001  117.980003  113.629997  117.620003   \n",
              "4       2018-01-08 00:00:00  117.669998  117.989998  115.680000  117.370003   \n",
              "...                     ...         ...         ...         ...         ...   \n",
              "219061  2022-12-23 00:00:00  176.610001  177.759995  175.080002  177.360001   \n",
              "219062  2022-12-27 00:00:00  177.850006  178.960007  175.050003  178.220001   \n",
              "219063  2022-12-28 00:00:00  178.389999  179.279999  174.350006  174.460007   \n",
              "219064  2022-12-29 00:00:00  175.119995  178.610001  174.779999  176.770004   \n",
              "219065  2022-12-30 00:00:00  175.850006  176.270004  172.050003  174.360001   \n",
              "\n",
              "                 5         6     7  \n",
              "0       114.480003  187400.0  ICLR  \n",
              "1       114.019997  379800.0  ICLR  \n",
              "2       113.910004  422700.0  ICLR  \n",
              "3       117.620003  299000.0  ICLR  \n",
              "4       117.370003  277000.0  ICLR  \n",
              "...            ...       ...   ...  \n",
              "219061  176.983261  371800.0  JBHT  \n",
              "219062  177.841446  354400.0  JBHT  \n",
              "219063  174.089432  240200.0  JBHT  \n",
              "219064  176.394516  362400.0  JBHT  \n",
              "219065  173.989639  459000.0  JBHT  \n",
              "\n",
              "[214421 rows x 8 columns]"
            ],
            "text/html": [
              "\n",
              "  <div id=\"df-5b337814-988c-45f7-9ed5-e94d3adaeaac\">\n",
              "    <div class=\"colab-df-container\">\n",
              "      <div>\n",
              "<style scoped>\n",
              "    .dataframe tbody tr th:only-of-type {\n",
              "        vertical-align: middle;\n",
              "    }\n",
              "\n",
              "    .dataframe tbody tr th {\n",
              "        vertical-align: top;\n",
              "    }\n",
              "\n",
              "    .dataframe thead th {\n",
              "        text-align: right;\n",
              "    }\n",
              "</style>\n",
              "<table border=\"1\" class=\"dataframe\">\n",
              "  <thead>\n",
              "    <tr style=\"text-align: right;\">\n",
              "      <th></th>\n",
              "      <th>0</th>\n",
              "      <th>1</th>\n",
              "      <th>2</th>\n",
              "      <th>3</th>\n",
              "      <th>4</th>\n",
              "      <th>5</th>\n",
              "      <th>6</th>\n",
              "      <th>7</th>\n",
              "    </tr>\n",
              "  </thead>\n",
              "  <tbody>\n",
              "    <tr>\n",
              "      <th>0</th>\n",
              "      <td>2018-01-02 00:00:00</td>\n",
              "      <td>112.040001</td>\n",
              "      <td>116.110001</td>\n",
              "      <td>112.040001</td>\n",
              "      <td>114.480003</td>\n",
              "      <td>114.480003</td>\n",
              "      <td>187400.0</td>\n",
              "      <td>ICLR</td>\n",
              "    </tr>\n",
              "    <tr>\n",
              "      <th>1</th>\n",
              "      <td>2018-01-03 00:00:00</td>\n",
              "      <td>114.489998</td>\n",
              "      <td>114.940002</td>\n",
              "      <td>113.660004</td>\n",
              "      <td>114.019997</td>\n",
              "      <td>114.019997</td>\n",
              "      <td>379800.0</td>\n",
              "      <td>ICLR</td>\n",
              "    </tr>\n",
              "    <tr>\n",
              "      <th>2</th>\n",
              "      <td>2018-01-04 00:00:00</td>\n",
              "      <td>114.339996</td>\n",
              "      <td>114.739998</td>\n",
              "      <td>112.650002</td>\n",
              "      <td>113.910004</td>\n",
              "      <td>113.910004</td>\n",
              "      <td>422700.0</td>\n",
              "      <td>ICLR</td>\n",
              "    </tr>\n",
              "    <tr>\n",
              "      <th>3</th>\n",
              "      <td>2018-01-05 00:00:00</td>\n",
              "      <td>114.220001</td>\n",
              "      <td>117.980003</td>\n",
              "      <td>113.629997</td>\n",
              "      <td>117.620003</td>\n",
              "      <td>117.620003</td>\n",
              "      <td>299000.0</td>\n",
              "      <td>ICLR</td>\n",
              "    </tr>\n",
              "    <tr>\n",
              "      <th>4</th>\n",
              "      <td>2018-01-08 00:00:00</td>\n",
              "      <td>117.669998</td>\n",
              "      <td>117.989998</td>\n",
              "      <td>115.680000</td>\n",
              "      <td>117.370003</td>\n",
              "      <td>117.370003</td>\n",
              "      <td>277000.0</td>\n",
              "      <td>ICLR</td>\n",
              "    </tr>\n",
              "    <tr>\n",
              "      <th>...</th>\n",
              "      <td>...</td>\n",
              "      <td>...</td>\n",
              "      <td>...</td>\n",
              "      <td>...</td>\n",
              "      <td>...</td>\n",
              "      <td>...</td>\n",
              "      <td>...</td>\n",
              "      <td>...</td>\n",
              "    </tr>\n",
              "    <tr>\n",
              "      <th>219061</th>\n",
              "      <td>2022-12-23 00:00:00</td>\n",
              "      <td>176.610001</td>\n",
              "      <td>177.759995</td>\n",
              "      <td>175.080002</td>\n",
              "      <td>177.360001</td>\n",
              "      <td>176.983261</td>\n",
              "      <td>371800.0</td>\n",
              "      <td>JBHT</td>\n",
              "    </tr>\n",
              "    <tr>\n",
              "      <th>219062</th>\n",
              "      <td>2022-12-27 00:00:00</td>\n",
              "      <td>177.850006</td>\n",
              "      <td>178.960007</td>\n",
              "      <td>175.050003</td>\n",
              "      <td>178.220001</td>\n",
              "      <td>177.841446</td>\n",
              "      <td>354400.0</td>\n",
              "      <td>JBHT</td>\n",
              "    </tr>\n",
              "    <tr>\n",
              "      <th>219063</th>\n",
              "      <td>2022-12-28 00:00:00</td>\n",
              "      <td>178.389999</td>\n",
              "      <td>179.279999</td>\n",
              "      <td>174.350006</td>\n",
              "      <td>174.460007</td>\n",
              "      <td>174.089432</td>\n",
              "      <td>240200.0</td>\n",
              "      <td>JBHT</td>\n",
              "    </tr>\n",
              "    <tr>\n",
              "      <th>219064</th>\n",
              "      <td>2022-12-29 00:00:00</td>\n",
              "      <td>175.119995</td>\n",
              "      <td>178.610001</td>\n",
              "      <td>174.779999</td>\n",
              "      <td>176.770004</td>\n",
              "      <td>176.394516</td>\n",
              "      <td>362400.0</td>\n",
              "      <td>JBHT</td>\n",
              "    </tr>\n",
              "    <tr>\n",
              "      <th>219065</th>\n",
              "      <td>2022-12-30 00:00:00</td>\n",
              "      <td>175.850006</td>\n",
              "      <td>176.270004</td>\n",
              "      <td>172.050003</td>\n",
              "      <td>174.360001</td>\n",
              "      <td>173.989639</td>\n",
              "      <td>459000.0</td>\n",
              "      <td>JBHT</td>\n",
              "    </tr>\n",
              "  </tbody>\n",
              "</table>\n",
              "<p>214421 rows × 8 columns</p>\n",
              "</div>\n",
              "      <button class=\"colab-df-convert\" onclick=\"convertToInteractive('df-5b337814-988c-45f7-9ed5-e94d3adaeaac')\"\n",
              "              title=\"Convert this dataframe to an interactive table.\"\n",
              "              style=\"display:none;\">\n",
              "        \n",
              "  <svg xmlns=\"http://www.w3.org/2000/svg\" height=\"24px\"viewBox=\"0 0 24 24\"\n",
              "       width=\"24px\">\n",
              "    <path d=\"M0 0h24v24H0V0z\" fill=\"none\"/>\n",
              "    <path d=\"M18.56 5.44l.94 2.06.94-2.06 2.06-.94-2.06-.94-.94-2.06-.94 2.06-2.06.94zm-11 1L8.5 8.5l.94-2.06 2.06-.94-2.06-.94L8.5 2.5l-.94 2.06-2.06.94zm10 10l.94 2.06.94-2.06 2.06-.94-2.06-.94-.94-2.06-.94 2.06-2.06.94z\"/><path d=\"M17.41 7.96l-1.37-1.37c-.4-.4-.92-.59-1.43-.59-.52 0-1.04.2-1.43.59L10.3 9.45l-7.72 7.72c-.78.78-.78 2.05 0 2.83L4 21.41c.39.39.9.59 1.41.59.51 0 1.02-.2 1.41-.59l7.78-7.78 2.81-2.81c.8-.78.8-2.07 0-2.86zM5.41 20L4 18.59l7.72-7.72 1.47 1.35L5.41 20z\"/>\n",
              "  </svg>\n",
              "      </button>\n",
              "      \n",
              "  <style>\n",
              "    .colab-df-container {\n",
              "      display:flex;\n",
              "      flex-wrap:wrap;\n",
              "      gap: 12px;\n",
              "    }\n",
              "\n",
              "    .colab-df-convert {\n",
              "      background-color: #E8F0FE;\n",
              "      border: none;\n",
              "      border-radius: 50%;\n",
              "      cursor: pointer;\n",
              "      display: none;\n",
              "      fill: #1967D2;\n",
              "      height: 32px;\n",
              "      padding: 0 0 0 0;\n",
              "      width: 32px;\n",
              "    }\n",
              "\n",
              "    .colab-df-convert:hover {\n",
              "      background-color: #E2EBFA;\n",
              "      box-shadow: 0px 1px 2px rgba(60, 64, 67, 0.3), 0px 1px 3px 1px rgba(60, 64, 67, 0.15);\n",
              "      fill: #174EA6;\n",
              "    }\n",
              "\n",
              "    [theme=dark] .colab-df-convert {\n",
              "      background-color: #3B4455;\n",
              "      fill: #D2E3FC;\n",
              "    }\n",
              "\n",
              "    [theme=dark] .colab-df-convert:hover {\n",
              "      background-color: #434B5C;\n",
              "      box-shadow: 0px 1px 3px 1px rgba(0, 0, 0, 0.15);\n",
              "      filter: drop-shadow(0px 1px 2px rgba(0, 0, 0, 0.3));\n",
              "      fill: #FFFFFF;\n",
              "    }\n",
              "  </style>\n",
              "\n",
              "      <script>\n",
              "        const buttonEl =\n",
              "          document.querySelector('#df-5b337814-988c-45f7-9ed5-e94d3adaeaac button.colab-df-convert');\n",
              "        buttonEl.style.display =\n",
              "          google.colab.kernel.accessAllowed ? 'block' : 'none';\n",
              "\n",
              "        async function convertToInteractive(key) {\n",
              "          const element = document.querySelector('#df-5b337814-988c-45f7-9ed5-e94d3adaeaac');\n",
              "          const dataTable =\n",
              "            await google.colab.kernel.invokeFunction('convertToInteractive',\n",
              "                                                     [key], {});\n",
              "          if (!dataTable) return;\n",
              "\n",
              "          const docLinkHtml = 'Like what you see? Visit the ' +\n",
              "            '<a target=\"_blank\" href=https://colab.research.google.com/notebooks/data_table.ipynb>data table notebook</a>'\n",
              "            + ' to learn more about interactive tables.';\n",
              "          element.innerHTML = '';\n",
              "          dataTable['output_type'] = 'display_data';\n",
              "          await google.colab.output.renderOutput(dataTable, element);\n",
              "          const docLink = document.createElement('div');\n",
              "          docLink.innerHTML = docLinkHtml;\n",
              "          element.appendChild(docLink);\n",
              "        }\n",
              "      </script>\n",
              "    </div>\n",
              "  </div>\n",
              "  "
            ]
          },
          "metadata": {},
          "execution_count": 14
        }
      ]
    },
    {
      "cell_type": "markdown",
      "source": [
        "Splitting The DataSet and scaling it Into Test And Train\n"
      ],
      "metadata": {
        "id": "chDw82IpmsAt"
      }
    },
    {
      "cell_type": "code",
      "source": [
        "df2 = df[df.iloc[:,7] == 'AMZN'].iloc[:,4]"
      ],
      "metadata": {
        "id": "GI9-dlTju_lx"
      },
      "execution_count": 15,
      "outputs": []
    },
    {
      "cell_type": "code",
      "source": [
        "df2"
      ],
      "metadata": {
        "id": "WwiEH40evTnX"
      },
      "execution_count": null,
      "outputs": []
    },
    {
      "cell_type": "code",
      "source": [
        "scaler=MinMaxScaler(feature_range=(0,1))\n",
        "df1=scaler.fit_transform(np.array(df2).reshape(-1,1))"
      ],
      "metadata": {
        "id": "_W0DfHCfjOYH"
      },
      "execution_count": 17,
      "outputs": []
    },
    {
      "cell_type": "code",
      "source": [
        "training_size=int(len(df1)*0.65)\n",
        "test_size=len(df1)-training_size\n",
        "train_data,test_data=df1[0:training_size,:],df1[training_size:len(df1),:1]"
      ],
      "metadata": {
        "id": "8wTGAk0EmXoh"
      },
      "execution_count": 18,
      "outputs": []
    },
    {
      "cell_type": "markdown",
      "source": [
        "A function that creates timestams that are to be passed in lstm\n"
      ],
      "metadata": {
        "id": "AFfsjIS3tta-"
      }
    },
    {
      "cell_type": "code",
      "source": [
        "def create_dataset(dataset, time_step=1):\n",
        "\tdataX, dataY = [], []\n",
        "\tfor i in range(len(dataset)-time_step-1):\n",
        "\t\ta = dataset[i:(i+time_step), 0]   \n",
        "\t\tdataX.append(a)\n",
        "\t\tdataY.append(dataset[i + time_step, 0])\n",
        "\treturn np.array(dataX), np.array(dataY)"
      ],
      "metadata": {
        "id": "g7NGMwliqBPy"
      },
      "execution_count": 19,
      "outputs": []
    },
    {
      "cell_type": "code",
      "source": [
        "time_step = 100\n",
        "X_train, y_train = create_dataset(train_data, time_step)\n",
        "X_test, ytest = create_dataset(test_data, time_step)\n",
        "X_train =X_train.reshape(X_train.shape[0],X_train.shape[1] , 1)\n",
        "X_test = X_test.reshape(X_test.shape[0],X_test.shape[1] , 1)"
      ],
      "metadata": {
        "id": "DMwQXd5nqGti"
      },
      "execution_count": 20,
      "outputs": []
    },
    {
      "cell_type": "code",
      "source": [
        "X_train =X_train.reshape(X_train.shape[0],X_train.shape[1] , 1)\n",
        "X_test = X_test.reshape(X_test.shape[0],X_test.shape[1] , 1)"
      ],
      "metadata": {
        "id": "39tEQIu1qNqz"
      },
      "execution_count": 21,
      "outputs": []
    },
    {
      "cell_type": "code",
      "source": [],
      "metadata": {
        "id": "w0WLHUffV52N"
      },
      "execution_count": null,
      "outputs": []
    },
    {
      "cell_type": "code",
      "source": [],
      "metadata": {
        "id": "75ccuX2JV6As"
      },
      "execution_count": null,
      "outputs": []
    },
    {
      "cell_type": "markdown",
      "source": [
        "Models"
      ],
      "metadata": {
        "id": "W8FWWkc6r4O3"
      }
    },
    {
      "cell_type": "code",
      "source": [
        "model=Sequential()\n",
        "model.add(LSTM(50,return_sequences=True,input_shape=(100,1)))\n",
        "model.add(LSTM(50,return_sequences=True))\n",
        "model.add(LSTM(50))\n",
        "model.add(Dense(1))\n",
        "model.compile(loss='mean_squared_error',optimizer='adam')"
      ],
      "metadata": {
        "id": "Wrnj8vVpqNwv"
      },
      "execution_count": 28,
      "outputs": []
    },
    {
      "cell_type": "code",
      "source": [
        "model.summary()"
      ],
      "metadata": {
        "colab": {
          "base_uri": "https://localhost:8080/"
        },
        "id": "vBsCsHFVsP5g",
        "outputId": "4965236d-9449-4fed-922f-24b2d57a9e56"
      },
      "execution_count": 29,
      "outputs": [
        {
          "output_type": "stream",
          "name": "stdout",
          "text": [
            "Model: \"sequential_1\"\n",
            "_________________________________________________________________\n",
            " Layer (type)                Output Shape              Param #   \n",
            "=================================================================\n",
            " lstm_4 (LSTM)               (None, 100, 50)           10400     \n",
            "                                                                 \n",
            " lstm_5 (LSTM)               (None, 100, 50)           20200     \n",
            "                                                                 \n",
            " lstm_6 (LSTM)               (None, 50)                20200     \n",
            "                                                                 \n",
            " dense_2 (Dense)             (None, 1)                 51        \n",
            "                                                                 \n",
            "=================================================================\n",
            "Total params: 50,851\n",
            "Trainable params: 50,851\n",
            "Non-trainable params: 0\n",
            "_________________________________________________________________\n"
          ]
        }
      ]
    },
    {
      "cell_type": "code",
      "source": [
        "model.fit(X_train,y_train,validation_data=(X_test,ytest),epochs=10,batch_size=64,verbose=1)"
      ],
      "metadata": {
        "colab": {
          "base_uri": "https://localhost:8080/"
        },
        "id": "ZEcfVaYLsTw_",
        "outputId": "42b99036-ecf8-4b6e-ef49-a478234e3279"
      },
      "execution_count": 30,
      "outputs": [
        {
          "output_type": "stream",
          "name": "stdout",
          "text": [
            "Epoch 1/10\n",
            "12/12 [==============================] - 11s 473ms/step - loss: 0.0696 - val_loss: 0.0122\n",
            "Epoch 2/10\n",
            "12/12 [==============================] - 3s 224ms/step - loss: 0.0115 - val_loss: 0.0143\n",
            "Epoch 3/10\n",
            "12/12 [==============================] - 3s 216ms/step - loss: 0.0053 - val_loss: 0.0081\n",
            "Epoch 4/10\n",
            "12/12 [==============================] - 3s 214ms/step - loss: 0.0026 - val_loss: 0.0070\n",
            "Epoch 5/10\n",
            "12/12 [==============================] - 3s 218ms/step - loss: 0.0024 - val_loss: 0.0084\n",
            "Epoch 6/10\n",
            "12/12 [==============================] - 4s 366ms/step - loss: 0.0021 - val_loss: 0.0072\n",
            "Epoch 7/10\n",
            "12/12 [==============================] - 3s 223ms/step - loss: 0.0021 - val_loss: 0.0075\n",
            "Epoch 8/10\n",
            "12/12 [==============================] - 3s 218ms/step - loss: 0.0020 - val_loss: 0.0082\n",
            "Epoch 9/10\n",
            "12/12 [==============================] - 3s 217ms/step - loss: 0.0020 - val_loss: 0.0068\n",
            "Epoch 10/10\n",
            "12/12 [==============================] - 3s 229ms/step - loss: 0.0020 - val_loss: 0.0076\n"
          ]
        },
        {
          "output_type": "execute_result",
          "data": {
            "text/plain": [
              "<keras.callbacks.History at 0x7fa82936a9d0>"
            ]
          },
          "metadata": {},
          "execution_count": 30
        }
      ]
    },
    {
      "cell_type": "markdown",
      "source": [
        "Predicting on train and test set\n"
      ],
      "metadata": {
        "id": "iGYBctvSs4cw"
      }
    },
    {
      "cell_type": "code",
      "source": [
        "train_predict=model.predict(X_train)\n",
        "test_predict=model.predict(X_test)"
      ],
      "metadata": {
        "colab": {
          "base_uri": "https://localhost:8080/"
        },
        "id": "P9f8x_0CsaYv",
        "outputId": "6f475cf9-b31a-4dc6-9d1f-c5a697f7342f"
      },
      "execution_count": 31,
      "outputs": [
        {
          "output_type": "stream",
          "name": "stdout",
          "text": [
            "23/23 [==============================] - 2s 42ms/step\n",
            "11/11 [==============================] - 0s 44ms/step\n"
          ]
        }
      ]
    },
    {
      "cell_type": "markdown",
      "source": [
        "De normalising the predictions\n"
      ],
      "metadata": {
        "id": "1-yQbtADsptO"
      }
    },
    {
      "cell_type": "code",
      "source": [
        "train_predict=scaler.inverse_transform(train_predict)\n",
        "test_predict=scaler.inverse_transform(test_predict)"
      ],
      "metadata": {
        "id": "98D9qBIesdTb"
      },
      "execution_count": 32,
      "outputs": []
    },
    {
      "cell_type": "markdown",
      "source": [
        "RMSE on Test Dataset\n"
      ],
      "metadata": {
        "id": "JZ7xkf8Osjij"
      }
    },
    {
      "cell_type": "code",
      "source": [
        "math.sqrt(mean_squared_error(y_train,train_predict))"
      ],
      "metadata": {
        "colab": {
          "base_uri": "https://localhost:8080/"
        },
        "id": "zn89x8mzsgIX",
        "outputId": "f56b121b-ca26-43c2-cfc4-451fe0f91ab5"
      },
      "execution_count": 33,
      "outputs": [
        {
          "output_type": "execute_result",
          "data": {
            "text/plain": [
              "115.0338521777242"
            ]
          },
          "metadata": {},
          "execution_count": 33
        }
      ]
    },
    {
      "cell_type": "markdown",
      "source": [
        "Saving trained weights for future "
      ],
      "metadata": {
        "id": "mZhdCLVSuNt7"
      }
    },
    {
      "cell_type": "code",
      "source": [
        "model.save_weights('/content/drive/MyDrive/lstm_weights.hdf5')"
      ],
      "metadata": {
        "id": "MhbOwYelt-6F"
      },
      "execution_count": 34,
      "outputs": []
    },
    {
      "cell_type": "code",
      "source": [],
      "metadata": {
        "id": "kSWcWDBHwXHm"
      },
      "execution_count": null,
      "outputs": []
    }
  ]
}